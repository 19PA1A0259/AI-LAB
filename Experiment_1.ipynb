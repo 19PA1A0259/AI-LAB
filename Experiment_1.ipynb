{
  "nbformat": 4,
  "nbformat_minor": 0,
  "metadata": {
    "colab": {
      "name": "Experiment-1",
      "provenance": [],
      "authorship_tag": "ABX9TyOmGziIgfatCz3XrgDlgkBH",
      "include_colab_link": true
    },
    "kernelspec": {
      "name": "python3",
      "display_name": "Python 3"
    }
  },
  "cells": [
    {
      "cell_type": "markdown",
      "metadata": {
        "id": "view-in-github",
        "colab_type": "text"
      },
      "source": [
        "<a href=\"https://colab.research.google.com/github/19PA1A0259/AI-LAB/blob/master/Experiment_1.ipynb\" target=\"_parent\"><img src=\"https://colab.research.google.com/assets/colab-badge.svg\" alt=\"Open In Colab\"/></a>"
      ]
    },
    {
      "cell_type": "markdown",
      "metadata": {
        "id": "gj3Jq9viMpuA",
        "colab_type": "text"
      },
      "source": [
        "1) Different ways to create numpy arrays."
      ]
    },
    {
      "cell_type": "code",
      "metadata": {
        "id": "aFMX_wPBMwe9",
        "colab_type": "code",
        "colab": {
          "base_uri": "https://localhost:8080/",
          "height": 68
        },
        "outputId": "73a22895-3c38-44f8-bdb1-fe0f55fa652c"
      },
      "source": [
        "[]\n",
        "import numpy as np\n",
        "p=np.array([1,2,3])\n",
        "print(p)\n",
        "p=np.array([[1,2,3],[10,20,30]])\n",
        "print(p)"
      ],
      "execution_count": 32,
      "outputs": [
        {
          "output_type": "stream",
          "text": [
            "[1 2 3]\n",
            "[[ 1  2  3]\n",
            " [10 20 30]]\n"
          ],
          "name": "stdout"
        }
      ]
    },
    {
      "cell_type": "markdown",
      "metadata": {
        "id": "NLyHUhc-N3h4",
        "colab_type": "text"
      },
      "source": [
        "2) ADD, REMOVE,MODIFY array elements in array."
      ]
    },
    {
      "cell_type": "markdown",
      "metadata": {
        "id": "J7Jw_fjPPKKl",
        "colab_type": "text"
      },
      "source": [
        "Add"
      ]
    },
    {
      "cell_type": "code",
      "metadata": {
        "id": "cHS9pHGlRLmx",
        "colab_type": "code",
        "colab": {
          "base_uri": "https://localhost:8080/",
          "height": 34
        },
        "outputId": "792bdf45-dc3a-491c-f977-55f3fd94fd38"
      },
      "source": [
        "a=np.array([1,2,3]) \n",
        "b=np.append(a,[96,98,100]) \n",
        "print(b)"
      ],
      "execution_count": 33,
      "outputs": [
        {
          "output_type": "stream",
          "text": [
            "[  1   2   3  96  98 100]\n"
          ],
          "name": "stdout"
        }
      ]
    },
    {
      "cell_type": "markdown",
      "metadata": {
        "id": "CvQh74Pvhxd4",
        "colab_type": "text"
      },
      "source": [
        "REMOVE"
      ]
    },
    {
      "cell_type": "code",
      "metadata": {
        "id": "oRPui0n8hz4F",
        "colab_type": "code",
        "colab": {
          "base_uri": "https://localhost:8080/",
          "height": 34
        },
        "outputId": "0d2bf1a5-c457-4471-817d-e82ced6a6d97"
      },
      "source": [
        "x=np.delete(a,2)\n",
        "print(x)"
      ],
      "execution_count": 34,
      "outputs": [
        {
          "output_type": "stream",
          "text": [
            "[1 2]\n"
          ],
          "name": "stdout"
        }
      ]
    },
    {
      "cell_type": "markdown",
      "metadata": {
        "id": "PEu79WKziRuo",
        "colab_type": "text"
      },
      "source": [
        "MODIFY"
      ]
    },
    {
      "cell_type": "code",
      "metadata": {
        "id": "ByqhDpGniUhh",
        "colab_type": "code",
        "colab": {
          "base_uri": "https://localhost:8080/",
          "height": 34
        },
        "outputId": "9236ef68-77f9-49d0-b356-caa2f17b9d38"
      },
      "source": [
        "x[x<2]=-1\n",
        "print(x)"
      ],
      "execution_count": 35,
      "outputs": [
        {
          "output_type": "stream",
          "text": [
            "[-1  2]\n"
          ],
          "name": "stdout"
        }
      ]
    },
    {
      "cell_type": "markdown",
      "metadata": {
        "id": "LA92acRYi9wT",
        "colab_type": "text"
      },
      "source": [
        " 3) Arthematic operations on numpy array []"
      ]
    },
    {
      "cell_type": "code",
      "metadata": {
        "id": "d_7b97wFjWro",
        "colab_type": "code",
        "colab": {
          "base_uri": "https://localhost:8080/",
          "height": 102
        },
        "outputId": "4c7a9bfd-e3a0-4982-9e34-23d96a5a2e4e"
      },
      "source": [
        "import numpy as np\n",
        "L=([9,8,7])\n",
        "m=([7,8,9])\n",
        "num_sum=np.add(L,m)\n",
        "num_diff=np.subtract(L,m)\n",
        "num_prod=np.multiply(L,m)\n",
        "num_quo=np.divide(L,m)\n",
        "num_mod=np.mod(L,m)\n",
        "num_pow=np.power(L,m)\n",
        "print(num_sum) \n",
        "print(num_diff) \n",
        "print(num_prod) \n",
        "print(num_quo) \n",
        "print(num_mod)"
      ],
      "execution_count": 36,
      "outputs": [
        {
          "output_type": "stream",
          "text": [
            "[16 16 16]\n",
            "[ 2  0 -2]\n",
            "[63 64 63]\n",
            "[1.28571429 1.         0.77777778]\n",
            "[2 0 7]\n"
          ],
          "name": "stdout"
        }
      ]
    },
    {
      "cell_type": "markdown",
      "metadata": {
        "id": "tzpS3LGIoWeX",
        "colab_type": "text"
      },
      "source": [
        " 4) Slicing and iterating of numpy array."
      ]
    },
    {
      "cell_type": "markdown",
      "metadata": {
        "id": "GBCzVF_7ovZO",
        "colab_type": "text"
      },
      "source": [
        "Slicing"
      ]
    },
    {
      "cell_type": "code",
      "metadata": {
        "id": "Cy6OH6JLoxuF",
        "colab_type": "code",
        "colab": {
          "base_uri": "https://localhost:8080/",
          "height": 34
        },
        "outputId": "e833ccc3-84c9-4111-b39b-01f55fa8663c"
      },
      "source": [
        "import numpy as np\n",
        "arr=np.array([1,2,3,4,5,6,7,8])\n",
        "print(arr[1:8])"
      ],
      "execution_count": 1,
      "outputs": [
        {
          "output_type": "stream",
          "text": [
            "[2 3 4 5 6 7 8]\n"
          ],
          "name": "stdout"
        }
      ]
    },
    {
      "cell_type": "markdown",
      "metadata": {
        "id": "WG_s-UsdpjPI",
        "colab_type": "text"
      },
      "source": [
        "Iterating"
      ]
    },
    {
      "cell_type": "code",
      "metadata": {
        "id": "g4VP3bHGqOX1",
        "colab_type": "code",
        "colab": {
          "base_uri": "https://localhost:8080/",
          "height": 154
        },
        "outputId": "012f0008-eb81-4476-debf-0830d3c719a1"
      },
      "source": [
        "for x in arr:\n",
        "  print(x)"
      ],
      "execution_count": 29,
      "outputs": [
        {
          "output_type": "stream",
          "text": [
            "1\n",
            "2\n",
            "3\n",
            "4\n",
            "5\n",
            "6\n",
            "7\n",
            "8\n"
          ],
          "name": "stdout"
        }
      ]
    },
    {
      "cell_type": "markdown",
      "metadata": {
        "id": "6ZO_Nx3_rLxI",
        "colab_type": "text"
      },
      "source": [
        "5)matrix operations on numpy arrays"
      ]
    },
    {
      "cell_type": "code",
      "metadata": {
        "id": "v4C6NZdFrrHo",
        "colab_type": "code",
        "colab": {
          "base_uri": "https://localhost:8080/",
          "height": 119
        },
        "outputId": "c325df87-7735-4e5c-b88f-d1e2a9dab934"
      },
      "source": [
        "import numpy as np\n",
        "s=np.array([[1,2],[3,4]])\n",
        "t=np.array([[5,6],[7,8]])\n",
        "print(np.add(s,t))\n",
        "print(np.subtract(s,t)) \n",
        "print(np.divide(s,t))"
      ],
      "execution_count": 30,
      "outputs": [
        {
          "output_type": "stream",
          "text": [
            "[[ 6  8]\n",
            " [10 12]]\n",
            "[[-4 -4]\n",
            " [-4 -4]]\n",
            "[[0.2        0.33333333]\n",
            " [0.42857143 0.5       ]]\n"
          ],
          "name": "stdout"
        }
      ]
    }
  ]
}